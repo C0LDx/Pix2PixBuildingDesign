{
 "cells": [
  {
   "cell_type": "code",
   "execution_count": 1,
   "id": "eab13862-43d6-4358-ab36-c26c8cdc565e",
   "metadata": {},
   "outputs": [],
   "source": [
    "import os\n",
    "import matplotlib.pyplot as plt\n",
    "import cv2\n",
    "import shutil\n",
    "import numpy as np"
   ]
  },
  {
   "cell_type": "code",
   "execution_count": 2,
   "id": "8c2afc8e-aceb-4185-bfd0-3aa13cd3cd19",
   "metadata": {},
   "outputs": [],
   "source": [
    "dir = [\".//raw_dataset//base//\", \".//raw_dataset//extended\"]\n",
    "target_dir = \".//resized_dataset//\"\n",
    "final_dir = \".//preprocessed_dataset//\""
   ]
  },
  {
   "cell_type": "code",
   "execution_count": 3,
   "id": "ebff8a69-c892-47bb-8b53-e66b0f11a4ef",
   "metadata": {},
   "outputs": [],
   "source": [
    "if not os.path.exists(target_dir):\n",
    "    os.makedirs(target_dir)"
   ]
  },
  {
   "cell_type": "code",
   "execution_count": 4,
   "id": "f97e2f76-2ff5-46e7-99b3-b838d9bde93e",
   "metadata": {},
   "outputs": [],
   "source": [
    "if not os.path.exists(final_dir):\n",
    "    os.makedirs(final_dir)"
   ]
  },
  {
   "cell_type": "code",
   "execution_count": 5,
   "id": "81523896-8c42-406b-a904-9b2abb36616b",
   "metadata": {},
   "outputs": [],
   "source": [
    "imglist = [img for img in os.listdir(dir[0])] #replace 0 with 1 when extracting extended dataset"
   ]
  },
  {
   "cell_type": "code",
   "execution_count": 6,
   "id": "2d13245b-75e6-4d35-9c1f-4a85bbd8b3f5",
   "metadata": {},
   "outputs": [
    {
     "data": {
      "text/plain": [
       "1134"
      ]
     },
     "execution_count": 6,
     "metadata": {},
     "output_type": "execute_result"
    }
   ],
   "source": [
    "len(imglist)"
   ]
  },
  {
   "cell_type": "code",
   "execution_count": 37,
   "id": "84f38d47-5a9b-42ed-a8f3-8f0e8608012f",
   "metadata": {},
   "outputs": [],
   "source": [
    "for i in range(1,len(imglist)+1):\n",
    "    if i%3==0:\n",
    "        continue\n",
    "    img = cv2.imread(os.path.join(dir[0],imglist[i-1]))\n",
    "    img = cv2.resize(img, (256,256))\n",
    "    #cv2.imshow('Image',img)\n",
    "    #cv2.waitKey() #image will not show until this is called\n",
    "    #cv2.destroyWindow('Image') #make sure window closes cleanly\n",
    "    cv2.imwrite(os.path.join(target_dir,imglist[i-1]), img)"
   ]
  },
  {
   "cell_type": "code",
   "execution_count": 32,
   "id": "bbb73ee0-9891-4362-9cff-d1e26e7949f9",
   "metadata": {},
   "outputs": [],
   "source": [
    "imglist = [img for img in os.listdir(dir[1])] #replace 0 with 1 when extracting extended dataset"
   ]
  },
  {
   "cell_type": "code",
   "execution_count": 33,
   "id": "f3e82f3f-b699-4064-aff1-58fd049a73e8",
   "metadata": {},
   "outputs": [
    {
     "data": {
      "text/plain": [
       "684"
      ]
     },
     "execution_count": 33,
     "metadata": {},
     "output_type": "execute_result"
    }
   ],
   "source": [
    "len(imglist)"
   ]
  },
  {
   "cell_type": "code",
   "execution_count": 37,
   "id": "fe22acce-695b-4b47-a9b6-39a75582714c",
   "metadata": {},
   "outputs": [],
   "source": [
    "for i in range(1,len(imglist)+1):\n",
    "    if i%3==0:\n",
    "        continue\n",
    "    img = cv2.imread(os.path.join(dir[1],imglist[i-1]))\n",
    "    img = cv2.resize(img, (256,256))\n",
    "    #cv2.imshow('Image',img)\n",
    "    #cv2.waitKey() #image will not show until this is called\n",
    "    #cv2.destroyWindow('Image') #make sure window closes cleanly\n",
    "    cv2.imwrite(os.path.join(target_dir,imglist[i-1]), img)"
   ]
  },
  {
   "cell_type": "code",
   "execution_count": 38,
   "id": "7d81d897-9fb2-4158-8676-e1204636ffbb",
   "metadata": {},
   "outputs": [],
   "source": [
    "resized_imglist = imglist = [img for img in os.listdir(target_dir)]"
   ]
  },
  {
   "cell_type": "code",
   "execution_count": 39,
   "id": "2f94633f-053a-4dfc-834b-7142b29ce187",
   "metadata": {},
   "outputs": [],
   "source": [
    "counter = 1"
   ]
  },
  {
   "cell_type": "code",
   "execution_count": 40,
   "id": "42fdba33-e5f9-47db-9d7b-80fb0dccd50f",
   "metadata": {},
   "outputs": [],
   "source": [
    "for i in range(1,len(resized_imglist)+1):\n",
    "    img = np.zeros((256,512,3), np.uint8)\n",
    "    if i%2 == 1:\n",
    "        img1 = cv2.imread(os.path.join(target_dir, resized_imglist[i-1]))\n",
    "    else:\n",
    "        img2 = cv2.imread(os.path.join(target_dir, resized_imglist[i-1]))\n",
    "        img[:,:256] = img1[:,:]\n",
    "        img[:,256:] = img2[:,:]\n",
    "        cv2.imwrite(os.path.join(final_dir,str(counter)+'.png'),img)\n",
    "        counter = counter + 1"
   ]
  },
  {
   "cell_type": "code",
   "execution_count": 19,
   "id": "36ba34e4-012c-4a70-b437-d1da95b2d0b5",
   "metadata": {},
   "outputs": [],
   "source": [
    "cv2.imshow('BlankImage',img)\n",
    "cv2.waitKey() #image will not show until this is called\n",
    "cv2.destroyWindow('BlankImage') #make sure window closes cleanly"
   ]
  },
  {
   "cell_type": "code",
   "execution_count": null,
   "id": "dfca0e02-7a1b-4c70-bf9c-ff32d5cf38be",
   "metadata": {},
   "outputs": [],
   "source": []
  }
 ],
 "metadata": {
  "kernelspec": {
   "display_name": "Python 3 (ipykernel)",
   "language": "python",
   "name": "python3"
  },
  "language_info": {
   "codemirror_mode": {
    "name": "ipython",
    "version": 3
   },
   "file_extension": ".py",
   "mimetype": "text/x-python",
   "name": "python",
   "nbconvert_exporter": "python",
   "pygments_lexer": "ipython3",
   "version": "3.10.13"
  }
 },
 "nbformat": 4,
 "nbformat_minor": 5
}
